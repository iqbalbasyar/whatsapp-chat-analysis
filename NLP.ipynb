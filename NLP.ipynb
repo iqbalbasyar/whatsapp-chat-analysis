{
 "cells": [
  {
   "cell_type": "code",
   "execution_count": 1,
   "metadata": {},
   "outputs": [],
   "source": [
    "import elang\n",
    "from elang.word2vec.utils import cleansing\n",
    "import re\n",
    "import pandas as pd"
   ]
  },
  {
   "cell_type": "code",
   "execution_count": 2,
   "metadata": {},
   "outputs": [
    {
     "data": {
      "text/plain": [
       "'0.1.0'"
      ]
     },
     "execution_count": 2,
     "metadata": {},
     "output_type": "execute_result"
    }
   ],
   "source": [
    "elang.__version__"
   ]
  },
  {
   "cell_type": "markdown",
   "metadata": {},
   "source": [
    "# Removing Indonesian Stopwords using Elang"
   ]
  },
  {
   "cell_type": "code",
   "execution_count": 7,
   "metadata": {},
   "outputs": [],
   "source": [
    "f = open('res/chat.txt', 'r') \n",
    "lines = f.readlines()\n",
    "_ = lines.pop(0)"
   ]
  },
  {
   "cell_type": "code",
   "execution_count": 12,
   "metadata": {},
   "outputs": [],
   "source": [
    "# Read data as dataframe\n",
    "party_a = \"\"\n",
    "party_b = \"\"\n",
    "\n",
    "dic = {1:[],2:[],3:[],4:[],5:[]}\n",
    "for line, content in enumerate(lines):\n",
    "    result = re.search(f\"(\\d{{1,2}}/\\d{{1,2}}/\\d{{1,2}}), (\\d{{1,2}}:\\d{{1,2}}) ([PA]M) - ({party_a}|{party_b}): (.*)\",content)\n",
    "    if result:\n",
    "        for i in range (1,6):\n",
    "            dic[i].append(result.group(i))\n",
    "    else:\n",
    "        dic[5][-1] += content\n",
    "\n",
    "df = pd.DataFrame(dic)\n",
    "df.columns=['date', 'time', 'ampm', 'sender', 'text']"
   ]
  },
  {
   "cell_type": "code",
   "execution_count": 29,
   "metadata": {},
   "outputs": [
    {
     "name": "stdout",
     "output_type": "stream",
     "text": [
      "CPU times: user 8.37 ms, sys: 2.23 ms, total: 10.6 ms\n",
      "Wall time: 10.6 ms\n"
     ]
    }
   ],
   "source": [
    "chat = '\\n'.join(df['text'])\n",
    "clean_chat = cleansing.remove_stopwords_id(chat)\n",
    "text_file = open(\"res/clean_chat.txt\", \"w\")\n",
    "n = text_file.write(clean_chat)\n",
    "text_file.close()"
   ]
  },
  {
   "cell_type": "code",
   "execution_count": 25,
   "metadata": {},
   "outputs": [],
   "source": []
  },
  {
   "cell_type": "code",
   "execution_count": 61,
   "metadata": {},
   "outputs": [],
   "source": []
  },
  {
   "cell_type": "code",
   "execution_count": null,
   "metadata": {},
   "outputs": [],
   "source": []
  }
 ],
 "metadata": {
  "kernelspec": {
   "display_name": "NLP",
   "language": "python",
   "name": "nlp"
  },
  "language_info": {
   "codemirror_mode": {
    "name": "ipython",
    "version": 3
   },
   "file_extension": ".py",
   "mimetype": "text/x-python",
   "name": "python",
   "nbconvert_exporter": "python",
   "pygments_lexer": "ipython3",
   "version": "3.8.1"
  }
 },
 "nbformat": 4,
 "nbformat_minor": 4
}
